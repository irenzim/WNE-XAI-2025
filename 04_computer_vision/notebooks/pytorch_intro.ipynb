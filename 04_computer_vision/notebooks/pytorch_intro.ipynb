{
 "cells": [
  {
   "cell_type": "markdown",
   "id": "b3ea9aae",
   "metadata": {},
   "source": [
    "## 📘 **Applications of Explainable AI in Predictive Modelling**  \n",
    "---\n",
    "\n",
    "🏫 Week 12  \n",
    "📅 Date: 2025-05-13  \n",
    "🧑‍🏫 Irena Zimovska\n",
    "\n",
    "---\n",
    "\n"
   ]
  },
  {
   "cell_type": "markdown",
   "id": "c062dc33",
   "metadata": {},
   "source": [
    "## **Introduction to PyTorch**"
   ]
  },
  {
   "cell_type": "code",
   "execution_count": 1,
   "id": "9518b638",
   "metadata": {},
   "outputs": [],
   "source": [
    "# 1. Introduction to PyTorch\n",
    "import torch\n",
    "import torch.nn as nn\n",
    "import torch.nn.functional as F\n",
    "import torch.optim as optim\n",
    "import torchvision.transforms as transforms\n",
    "import matplotlib.pyplot as plt\n",
    "import numpy as np\n",
    "import warnings\n",
    "\n",
    "\n",
    "import matplotlib.pyplot as plt\n",
    "import math\n",
    "warnings.filterwarnings(\"ignore\")"
   ]
  },
  {
   "cell_type": "markdown",
   "id": "5c5f6899",
   "metadata": {},
   "source": [
    "At its core, **PyTorch provides two main features**:\n",
    "\n",
    "- An n-dimensional Tensor, similar to numpy but can run on GPUs\n",
    "\n",
    "- Automatic differentiation for building and training neural networks\n",
    "\n",
    "A PyTorch Tensor is conceptually identical to a numpy array: a Tensor is an n-dimensional array, and PyTorch provides many functions for operating on these Tensors. Behind the scenes, Tensors can keep track of a computational graph and gradients, but they’re also useful as a generic tool for scientific computing.\n",
    "\n",
    "Also unlike numpy, PyTorch Tensors can utilize GPUs to accelerate their numeric computations. To run a PyTorch Tensor on GPU, you simply need to specify the correct device."
   ]
  },
  {
   "cell_type": "code",
   "execution_count": 2,
   "id": "f19d12ee",
   "metadata": {},
   "outputs": [],
   "source": [
    "data = [[1, 2],[3, 4]]\n",
    "x_data = torch.tensor(data)"
   ]
  },
  {
   "cell_type": "code",
   "execution_count": 3,
   "id": "9d6903bb",
   "metadata": {},
   "outputs": [],
   "source": [
    "np_array = np.array(data)\n",
    "x_np = torch.from_numpy(np_array)"
   ]
  },
  {
   "cell_type": "code",
   "execution_count": 4,
   "id": "63e2730b",
   "metadata": {},
   "outputs": [
    {
     "name": "stdout",
     "output_type": "stream",
     "text": [
      "Ones Tensor: \n",
      " tensor([[1, 1],\n",
      "        [1, 1]]) \n",
      "\n",
      "Random Tensor: \n",
      " tensor([[0.5038, 0.3146],\n",
      "        [0.0821, 0.9552]]) \n",
      "\n"
     ]
    }
   ],
   "source": [
    "x_ones = torch.ones_like(x_data) # retains the properties of x_data\n",
    "print(f\"Ones Tensor: \\n {x_ones} \\n\")\n",
    "\n",
    "x_rand = torch.rand_like(x_data, dtype=torch.float) # overrides the datatype of x_data\n",
    "print(f\"Random Tensor: \\n {x_rand} \\n\")"
   ]
  },
  {
   "cell_type": "code",
   "execution_count": 5,
   "id": "9a4ff254",
   "metadata": {},
   "outputs": [
    {
     "name": "stdout",
     "output_type": "stream",
     "text": [
      "Random Tensor: \n",
      " tensor([[0.9164, 0.3899, 0.3291],\n",
      "        [0.2399, 0.4883, 0.0599]]) \n",
      "\n",
      "Ones Tensor: \n",
      " tensor([[1., 1., 1.],\n",
      "        [1., 1., 1.]]) \n",
      "\n",
      "Zeros Tensor: \n",
      " tensor([[0., 0., 0.],\n",
      "        [0., 0., 0.]])\n"
     ]
    }
   ],
   "source": [
    "shape = (2,3,)\n",
    "rand_tensor = torch.rand(shape)\n",
    "ones_tensor = torch.ones(shape)\n",
    "zeros_tensor = torch.zeros(shape)\n",
    "\n",
    "print(f\"Random Tensor: \\n {rand_tensor} \\n\")\n",
    "print(f\"Ones Tensor: \\n {ones_tensor} \\n\")\n",
    "print(f\"Zeros Tensor: \\n {zeros_tensor}\")"
   ]
  },
  {
   "cell_type": "code",
   "execution_count": 6,
   "id": "43052ca6",
   "metadata": {},
   "outputs": [
    {
     "name": "stdout",
     "output_type": "stream",
     "text": [
      "Shape of tensor: torch.Size([3, 4])\n",
      "Datatype of tensor: torch.float32\n",
      "Device tensor is stored on: cpu\n"
     ]
    }
   ],
   "source": [
    "tensor = torch.rand(3,4)\n",
    "\n",
    "print(f\"Shape of tensor: {tensor.shape}\")\n",
    "print(f\"Datatype of tensor: {tensor.dtype}\")\n",
    "print(f\"Device tensor is stored on: {tensor.device}\")"
   ]
  },
  {
   "cell_type": "markdown",
   "id": "4431d043",
   "metadata": {},
   "source": [
    "## **Torch Device**\n",
    "\n",
    "Within the PyTorch repo, we define an “Accelerator” as a torch.device that is being used alongside a CPU to speed up computation. These device use an asynchronous execution scheme, using torch.Stream and torch.Event as their main way to perform synchronization. We also assume that only one such accelerator can be available at once on a given host. This allows us to use the current accelerator as the default device for relevant concepts such as pinned memory, Stream device_type, FSDP, etc.\n",
    "\n",
    "As of today, accelerator devices are (in no particular order) “CUDA”, “MTIA”, “XPU”, “MPS”, “HPU”, and PrivateUse1 (many device not in the PyTorch repo itself).\n",
    "\n",
    "\n",
    "### **🚀 Accelerators** \n",
    "\n",
    "| Accelerator Type | Stands for                                    | Used for                                                                                    |\n",
    "| :--------------- | :--------------------------------------------- | :------------------------------------------------------------------------------------------ |\n",
    "| **CUDA**         | Nvidia GPUs (Graphics Processing Units)        | Most common for deep learning (Nvidia hardware).                                            |\n",
    "| **MTIA**         | Meta Training and Inference Accelerator        | Facebook/Meta's custom chips for AI model acceleration.                                     |\n",
    "| **XPU**          | Intel’s unified term (could be GPU, CPU, FPGA) | Intel’s way to abstract over different device types (especially their discrete GPUs).       |\n",
    "| **MPS**          | Metal Performance Shaders                      | Apple’s GPU interface (macOS / iOS devices).                                                |\n",
    "| **HPU**          | Habana Processing Unit (by Intel)              | Specialized AI chips like Gaudi (optimized for training/inference).                         |\n",
    "| **PrivateUse1**  | Reserved for custom hardware                   | Devices outside PyTorch repo (e.g., specialized research hardware, startups' accelerators). |\n",
    "\n"
   ]
  },
  {
   "cell_type": "code",
   "execution_count": 7,
   "id": "8e22db19",
   "metadata": {},
   "outputs": [
    {
     "name": "stdout",
     "output_type": "stream",
     "text": [
      "Using mps device\n"
     ]
    }
   ],
   "source": [
    "device = torch.accelerator.current_accelerator().type if torch.accelerator.is_available() else \"cpu\"\n",
    "print(f\"Using {device} device\")"
   ]
  },
  {
   "cell_type": "markdown",
   "id": "98c839f8",
   "metadata": {},
   "source": [
    "## **Torch Autograd**\n",
    "\n",
    "When training neural networks, the most frequently used algorithm is back propagation. In this algorithm, parameters (model weights) are adjusted according to the gradient of the loss function with respect to the given parameter.\n",
    "\n",
    "To compute those gradients, PyTorch has a built-in differentiation engine called torch.autograd. It supports automatic computation of gradient for any computational graph."
   ]
  },
  {
   "cell_type": "markdown",
   "id": "6f6f7032",
   "metadata": {},
   "source": [
    "PyTorch's *Autograd* feature is part of what make PyTorch flexible and fast for building machine learning projects. It allows for the rapid and easy computation of multiple partial derivatives (also referred to as *gradients)* over a complex computation. This operation is central to backpropagation-based neural network learning.\n",
    "\n",
    "The power of autograd comes from the fact that it traces your computation dynamically *at runtime,* meaning that if your model has decision branches, or loops whose lengths are not known until runtime, the computation will still be traced correctly, and you'll get correct gradients to drive learning. This, combined with the fact that your models are built in Python, offers far more flexibility than frameworks that rely on static analysis of a more rigidly-structured model for computing gradients.\n",
    "\n",
    "#### What Do We Need Autograd For?\n",
    "\n",
    "A machine learning model is a *function*, with inputs and outputs. For this discussion, we'll treat the inputs a as an *i*-dimensional vector $\\vec x$, with elements $x_{i}$. We can then express the model, *M*, as a vector-valued function of the input: *$\\vec y$ = $\\vec M$($\\vec x$)*. (We treat the value of M's output as a vector because in general, a model may have any number of outputs.)\n",
    "\n",
    "Since we'll mostly be discussing autograd in the context of training, our output of interest will be the model's loss. The *loss function* *L($\\vec y$) = L($\\vec M$($\\vec x$))* is a single-valued scalar function of the model's output. This function expresses how far off our model's prediction was from a particular input's *ideal* output. *Note: After this point, we will often omit the vector sign where it should be contextually clear - e.g., $y$ instead of $\\vec y$.*\n",
    "\n",
    "In training a model, we want to minimize the loss. In the idealized case of a perfect model, that means adjusting its learning weights - that is, the adjustable parameters of the function - such that loss is zero for all inputs. In the real world, it means an iterative process of nudging the learning weights until we see that we get a tolerable loss for a wide variety of inputs.\n",
    "\n",
    "How do we decide how far and in which direction to nudge the weights? We want to *minimize* the loss, which means making its first derivative with respect to the input equal to 0: $\\frac{\\partial L}{\\partial x} = 0$.\n",
    "\n",
    "Recall, though, that the loss is not *directly* derived from the input, but a function of the model's output (which is a function of the input directly), $\\frac{\\partial L}{\\partial x}$ = $\\frac{\\partial {L({\\vec y})}}{\\partial x}$. By the chain rule of differential calculus, we have $\\frac{\\partial {L({\\vec y})}}{\\partial x}$ = $\\frac{\\partial L}{\\partial y}\\frac{\\partial y}{\\partial x}$ = $\\frac{\\partial L}{\\partial y}\\frac{\\partial M(x)}{\\partial x}$.\n",
    "\n",
    "$\\frac{\\partial M(x)}{\\partial x}$ is where things get complex. The partial derivatives of the model's outputs with respect to its inputs, if we were to expand the expression using the chain rule again, would involve many local partial derivatives over every multiplied learning weight, every activation function, and every other mathematical transformation in the model. The full expression for each such partial derivative is the sum of the products of the local gradient of *every possible path* through the computation graph that ends with the variable whose gradient we are trying to measure.\n",
    "\n",
    "In particular, the gradients over the learning weights are of interest to us - they tell us *what direction to change each weight* to get the loss function closer to zero.\n",
    "\n",
    "Since the number of such local derivatives (each corresponding to a separate path through the model's computation graph) will tend to go up exponentially with the depth of a neural network, so does the complexity in computing them. This is where autograd comes in: It tracks the history of every computation. Every computed tensor in your PyTorch model carries a history of its input tensors and the function used to create it. Combined with the fact that PyTorch functions meant to act on tensors each have a built-in implementation for computing their own derivatives, this greatly speeds the computation of the local derivatives needed for learning.\n",
    "\n",
    "#### **Example 1**"
   ]
  },
  {
   "cell_type": "code",
   "execution_count": 8,
   "id": "55e6334b",
   "metadata": {},
   "outputs": [
    {
     "name": "stdout",
     "output_type": "stream",
     "text": [
      "h=0.100000, numerical limit =  2.300000\n",
      "h=0.010000, numerical limit =  2.030000\n",
      "h=0.001000, numerical limit =  2.003000\n",
      "h=0.000100, numerical limit =  2.000300\n",
      "h=0.000010, numerical limit =  2.000030\n",
      "h=0.000001, numerical limit =  2.000003\n"
     ]
    }
   ],
   "source": [
    "def f(x): \n",
    "    return 3 * x **2 - 4 * x\n",
    "\n",
    "def numerical_limit(f, x, h): \n",
    "    return (f(x+h) - f(x))/h\n",
    "\n",
    "h = 0.1\n",
    "\n",
    "for i in range(6): \n",
    "    print(f'h={h:.6f}, numerical limit = {numerical_limit(f, 1, h): .6f}')\n",
    "    h *= 0.1"
   ]
  },
  {
   "cell_type": "code",
   "execution_count": 9,
   "id": "9465ba32",
   "metadata": {},
   "outputs": [
    {
     "data": {
      "text/plain": [
       "tensor([0., 1., 2., 3.], requires_grad=True)"
      ]
     },
     "execution_count": 9,
     "metadata": {},
     "output_type": "execute_result"
    }
   ],
   "source": [
    "x = torch.arange(4.0, requires_grad=True)\n",
    "\n",
    "# requires_grad = True means that PyTocrh should keep in mind \n",
    "# that we might further need a gradient with respect to X\n",
    "\n",
    "x\n"
   ]
  },
  {
   "cell_type": "code",
   "execution_count": 10,
   "id": "34c48ca9",
   "metadata": {},
   "outputs": [
    {
     "name": "stdout",
     "output_type": "stream",
     "text": [
      "None\n"
     ]
    }
   ],
   "source": [
    "print(x.grad)\n",
    "\n",
    "# The default value is None, the grad is not available YET"
   ]
  },
  {
   "cell_type": "code",
   "execution_count": 11,
   "id": "e9282321",
   "metadata": {},
   "outputs": [
    {
     "name": "stdout",
     "output_type": "stream",
     "text": [
      "tensor(14., grad_fn=<DotBackward0>)\n"
     ]
    }
   ],
   "source": [
    "# Call the function - let's say a dot profuct of X\n",
    "y = torch.dot(x, x)\n",
    "print(y)"
   ]
  },
  {
   "cell_type": "code",
   "execution_count": 12,
   "id": "1497544e",
   "metadata": {},
   "outputs": [
    {
     "name": "stdout",
     "output_type": "stream",
     "text": [
      "tensor([0., 2., 4., 6.])\n"
     ]
    }
   ],
   "source": [
    "y.backward()\n",
    "\n",
    "# In order to fint partial derivatives, you call method backward()\n",
    "print(x.grad)"
   ]
  },
  {
   "cell_type": "code",
   "execution_count": 13,
   "id": "17a37cd7",
   "metadata": {},
   "outputs": [
    {
     "name": "stdout",
     "output_type": "stream",
     "text": [
      "tensor([0., 2., 4., 6.], grad_fn=<MulBackward0>)\n"
     ]
    }
   ],
   "source": [
    "print(2*x)\n",
    "\n",
    "# So, the grad is exactly the values of the partial derivatives with x"
   ]
  },
  {
   "cell_type": "code",
   "execution_count": 14,
   "id": "d89dffbb",
   "metadata": {},
   "outputs": [
    {
     "data": {
      "text/plain": [
       "tensor([0., 0., 0., 0.])"
      ]
     },
     "execution_count": 14,
     "metadata": {},
     "output_type": "execute_result"
    }
   ],
   "source": [
    "# Remember to clear the x.grad as PyTorch accumulates the gradient by default\n",
    "x.grad.zero_()"
   ]
  },
  {
   "cell_type": "markdown",
   "id": "2ad69ae0",
   "metadata": {},
   "source": [
    "#### **Example 2**"
   ]
  },
  {
   "cell_type": "markdown",
   "id": "7165c3ae",
   "metadata": {},
   "source": [
    "We'll create an input tensor full of evenly spaced values on the interval $[0, 2{\\pi}]$, and specify `requires_grad=True`. (Like most functions that create tensors, `torch.linspace()` accepts an optional `requires_grad` option.) Setting this flag means that in every computation that follows, autograd will be accumulating the history of the computation in the output tensors of that computation."
   ]
  },
  {
   "cell_type": "code",
   "execution_count": 15,
   "id": "bea34dbf",
   "metadata": {},
   "outputs": [
    {
     "name": "stdout",
     "output_type": "stream",
     "text": [
      "tensor([0.0000, 0.2618, 0.5236, 0.7854, 1.0472, 1.3090, 1.5708, 1.8326, 2.0944,\n",
      "        2.3562, 2.6180, 2.8798, 3.1416, 3.4034, 3.6652, 3.9270, 4.1888, 4.4506,\n",
      "        4.7124, 4.9742, 5.2360, 5.4978, 5.7596, 6.0214, 6.2832],\n",
      "       requires_grad=True)\n"
     ]
    }
   ],
   "source": [
    "a = torch.linspace(0, 2 * math.pi, steps=25, requires_grad=True)\n",
    "print(a)"
   ]
  },
  {
   "cell_type": "markdown",
   "id": "27e0e56c",
   "metadata": {},
   "source": [
    "Next, we'll perform a computation, and plot its output in terms of its inputs:"
   ]
  },
  {
   "cell_type": "code",
   "execution_count": 16,
   "id": "dd673bd5",
   "metadata": {},
   "outputs": [
    {
     "data": {
      "text/plain": [
       "[<matplotlib.lines.Line2D at 0x177d5a760>]"
      ]
     },
     "execution_count": 16,
     "metadata": {},
     "output_type": "execute_result"
    },
    {
     "data": {
      "image/png": "[encoded data removed]",
      "text/plain": [
       "<Figure size 640x480 with 1 Axes>"
      ]
     },
     "metadata": {},
     "output_type": "display_data"
    }
   ],
   "source": [
    "b = torch.sin(a)\n",
    "plt.plot(a.detach(), b.detach())"
   ]
  },
  {
   "cell_type": "markdown",
   "id": "9e55d739",
   "metadata": {},
   "source": [
    "Let's have a closer look at the tensor `b`. When we print it, we see an indicator that it is tracking its computation history:"
   ]
  },
  {
   "cell_type": "code",
   "execution_count": 17,
   "id": "3eae0976",
   "metadata": {},
   "outputs": [
    {
     "name": "stdout",
     "output_type": "stream",
     "text": [
      "tensor([ 0.0000e+00,  2.5882e-01,  5.0000e-01,  7.0711e-01,  8.6603e-01,\n",
      "         9.6593e-01,  1.0000e+00,  9.6593e-01,  8.6603e-01,  7.0711e-01,\n",
      "         5.0000e-01,  2.5882e-01, -8.7423e-08, -2.5882e-01, -5.0000e-01,\n",
      "        -7.0711e-01, -8.6603e-01, -9.6593e-01, -1.0000e+00, -9.6593e-01,\n",
      "        -8.6603e-01, -7.0711e-01, -5.0000e-01, -2.5882e-01,  1.7485e-07],\n",
      "       grad_fn=<SinBackward0>)\n"
     ]
    }
   ],
   "source": [
    "print(b)"
   ]
  },
  {
   "cell_type": "markdown",
   "id": "4518d574",
   "metadata": {},
   "source": [
    "This `grad_fn` gives us a hint that when we execute the backpropagation step and compute gradients, we'll need to compute the derivative of $sin(x)$ for all this tensor's inputs.\n",
    "\n",
    "Let's perform some more computations:"
   ]
  },
  {
   "cell_type": "code",
   "execution_count": 18,
   "id": "8f1f26c0",
   "metadata": {},
   "outputs": [
    {
     "name": "stdout",
     "output_type": "stream",
     "text": [
      "tensor([ 0.0000e+00,  5.1764e-01,  1.0000e+00,  1.4142e+00,  1.7321e+00,\n",
      "         1.9319e+00,  2.0000e+00,  1.9319e+00,  1.7321e+00,  1.4142e+00,\n",
      "         1.0000e+00,  5.1764e-01, -1.7485e-07, -5.1764e-01, -1.0000e+00,\n",
      "        -1.4142e+00, -1.7321e+00, -1.9319e+00, -2.0000e+00, -1.9319e+00,\n",
      "        -1.7321e+00, -1.4142e+00, -1.0000e+00, -5.1764e-01,  3.4969e-07],\n",
      "       grad_fn=<MulBackward0>)\n",
      "tensor([ 1.0000e+00,  1.5176e+00,  2.0000e+00,  2.4142e+00,  2.7321e+00,\n",
      "         2.9319e+00,  3.0000e+00,  2.9319e+00,  2.7321e+00,  2.4142e+00,\n",
      "         2.0000e+00,  1.5176e+00,  1.0000e+00,  4.8236e-01, -3.5763e-07,\n",
      "        -4.1421e-01, -7.3205e-01, -9.3185e-01, -1.0000e+00, -9.3185e-01,\n",
      "        -7.3205e-01, -4.1421e-01,  4.7684e-07,  4.8236e-01,  1.0000e+00],\n",
      "       grad_fn=<AddBackward0>)\n"
     ]
    }
   ],
   "source": [
    "c = 2 * b\n",
    "print(c)\n",
    "\n",
    "d = c + 1\n",
    "print(d)"
   ]
  },
  {
   "cell_type": "markdown",
   "id": "be9d09b3",
   "metadata": {},
   "source": [
    "Finally, let's compute a single-element output. When you call `.backward()` on a tensor with no arguments, it expects the calling tensor to contain only a single element, as is the case when computing a loss function."
   ]
  },
  {
   "cell_type": "code",
   "execution_count": 19,
   "id": "14ed2744",
   "metadata": {},
   "outputs": [
    {
     "name": "stdout",
     "output_type": "stream",
     "text": [
      "tensor(25., grad_fn=<SumBackward0>)\n"
     ]
    }
   ],
   "source": [
    "out = d.sum()\n",
    "print(out)"
   ]
  },
  {
   "cell_type": "markdown",
   "id": "682662e9",
   "metadata": {},
   "source": [
    "Each `grad_fn` stored with our tensors allows you to walk the computation all the way back to its inputs with its `next_functions` property. We can see below that drilling down on this property on `d` shows us the gradient functions for all the prior tensors. Note that `a.grad_fn` is reported as `None`, indicating that this was an input to the function with no history of its own."
   ]
  },
  {
   "cell_type": "code",
   "execution_count": 20,
   "id": "8298a95b",
   "metadata": {},
   "outputs": [
    {
     "name": "stdout",
     "output_type": "stream",
     "text": [
      "d:\n",
      "<AddBackward0 object at 0x177e21bb0>\n",
      "((<MulBackward0 object at 0x177e21a30>, 0), (None, 0))\n",
      "((<SinBackward0 object at 0x177e21bb0>, 0), (None, 0))\n",
      "((<AccumulateGrad object at 0x177e21af0>, 0),)\n",
      "()\n",
      "\n",
      "c:\n",
      "<MulBackward0 object at 0x177e21a90>\n",
      "\n",
      "b:\n",
      "<SinBackward0 object at 0x177e21a90>\n",
      "\n",
      "a:\n",
      "None\n"
     ]
    }
   ],
   "source": [
    "print('d:')\n",
    "print(d.grad_fn)\n",
    "print(d.grad_fn.next_functions)\n",
    "print(d.grad_fn.next_functions[0][0].next_functions)\n",
    "print(d.grad_fn.next_functions[0][0].next_functions[0][0].next_functions)\n",
    "print(d.grad_fn.next_functions[0][0].next_functions[0][0].next_functions[0][0].next_functions)\n",
    "print('\\nc:')\n",
    "print(c.grad_fn)\n",
    "print('\\nb:')\n",
    "print(b.grad_fn)\n",
    "print('\\na:')\n",
    "print(a.grad_fn)"
   ]
  },
  {
   "cell_type": "markdown",
   "id": "746789e6",
   "metadata": {},
   "source": [
    "With all this machinery in place, how do we get derivatives out? You call the `backward()` method on the output, and check the input's `grad` property to inspect the gradients:"
   ]
  },
  {
   "cell_type": "code",
   "execution_count": 21,
   "id": "ee155106",
   "metadata": {},
   "outputs": [
    {
     "name": "stdout",
     "output_type": "stream",
     "text": [
      "tensor([ 2.0000e+00,  1.9319e+00,  1.7321e+00,  1.4142e+00,  1.0000e+00,\n",
      "         5.1764e-01, -8.7423e-08, -5.1764e-01, -1.0000e+00, -1.4142e+00,\n",
      "        -1.7321e+00, -1.9319e+00, -2.0000e+00, -1.9319e+00, -1.7321e+00,\n",
      "        -1.4142e+00, -1.0000e+00, -5.1764e-01,  2.3850e-08,  5.1764e-01,\n",
      "         1.0000e+00,  1.4142e+00,  1.7321e+00,  1.9319e+00,  2.0000e+00])\n"
     ]
    },
    {
     "data": {
      "text/plain": [
       "[<matplotlib.lines.Line2D at 0x177e3ca90>]"
      ]
     },
     "execution_count": 21,
     "metadata": {},
     "output_type": "execute_result"
    },
    {
     "data": {
      "image/png": "[encoded data removed]",
      "text/plain": [
       "<Figure size 640x480 with 1 Axes>"
      ]
     },
     "metadata": {},
     "output_type": "display_data"
    }
   ],
   "source": [
    "out.backward()\n",
    "print(a.grad)\n",
    "plt.plot(a.detach(), a.grad.detach())"
   ]
  },
  {
   "cell_type": "markdown",
   "id": "959a08e6",
   "metadata": {},
   "source": [
    "Recall the computation steps we took to get here:\n",
    "\n",
    "```\n",
    "a = torch.linspace(0., 2. * math.pi, steps=25, requires_grad=True)\n",
    "b = torch.sin(a)\n",
    "c = 2 * b\n",
    "d = c + 1\n",
    "out = d.sum()\n",
    "```\n",
    "\n",
    "Adding a constant, as we did to compute `d`, does not change the derivative. That leaves $c = 2 * b = 2 * sin(a)$, the derivative of which should be $2 * cos(a)$. Looking at the graph above, that's just what we see.\n",
    "\n",
    "Be aware than only *leaf nodes* of the computation have their gradients computed. If you tried, for example, `print(c.grad)` you'd get back `None`. In this simple example, only the input is a leaf node, so only it has gradients computed.\n"
   ]
  },
  {
   "cell_type": "markdown",
   "id": "a357323b",
   "metadata": {},
   "source": [
    "## **Building a Neural Network**"
   ]
  },
  {
   "cell_type": "code",
   "execution_count": 23,
   "id": "3bfdc4ec",
   "metadata": {},
   "outputs": [],
   "source": [
    "class BasicNN(nn.Module): \n",
    "    def __init__(self):\n",
    "        super().__init__()\n",
    "\n",
    "        self.w00 = nn.Parameter(torch.tensor(1.7), requires_grad=False) \n",
    "        self.b00 = nn.Parameter(torch.tensor(-0.85), requires_grad=False)\n",
    "        self.w01 = nn.Parameter(torch.tensor(-40.8), requires_grad=False)\n",
    "\n",
    "        self.w10 = nn.Parameter(torch.tensor(12.6), requires_grad=False) \n",
    "        self.b10 = nn.Parameter(torch.tensor(0.0), requires_grad=False)\n",
    "        self.w11 = nn.Parameter(torch.tensor(2.7), requires_grad=False)\n",
    "\n",
    "        self.final_bias = nn.Parameter(torch.tensor(0.0), requires_grad=True)\n",
    "\n",
    "    def forward(self, input): \n",
    "\n",
    "        input_to_top_relu = input * self.w00 + self.b00\n",
    "        top_relu_output = F.relu(input_to_top_relu)\n",
    "        scaled_top_relu_output = top_relu_output * self.w01\n",
    "\n",
    "        input_to_bottom_relu = input * self.w10 + self.b10\n",
    "        bottom_relu_output = F.relu(input_to_bottom_relu)\n",
    "        scaled_bottom_relu_output = bottom_relu_output * self.w11\n",
    "\n",
    "        input_to_final_relu = scaled_top_relu_output + scaled_bottom_relu_output + self.final_bias\n",
    "        \n",
    "        output = F.relu(input_to_final_relu)\n",
    "\n",
    "        return output"
   ]
  },
  {
   "cell_type": "code",
   "execution_count": 24,
   "id": "2ec729d4",
   "metadata": {},
   "outputs": [
    {
     "name": "stdout",
     "output_type": "stream",
     "text": [
      "tensor([0.0000, 0.1111, 0.2222, 0.3333, 0.4444, 0.5556, 0.6667, 0.7778, 0.8889,\n",
      "        1.0000])\n",
      "tensor([0, 0, 0, 1, 1, 0, 1, 0, 1, 0])\n"
     ]
    }
   ],
   "source": [
    "# set up the model instance\n",
    "neural_net_model = BasicNN()\n",
    "\n",
    "# generate random values for input vector (tensor)\n",
    "X = torch.linspace(start=0, end=1, steps=10)\n",
    "print(X)\n",
    "\n",
    "# set the tensor with labels \n",
    "y = torch.tensor([0, 0, 0, 1, 1, 0, 1, 0, 1, 0])\n",
    "\n",
    "print(y)"
   ]
  },
  {
   "cell_type": "code",
   "execution_count": 25,
   "id": "798694fd",
   "metadata": {},
   "outputs": [
    {
     "name": "stdout",
     "output_type": "stream",
     "text": [
      "Final bias, before optimisation: Parameter containing:\n",
      "tensor(0., requires_grad=True)\n",
      "\n",
      "Step: 0 Final bias: tensor(-14.0853)\n",
      "\n",
      "Step: 1 Final bias: tensor(-14.2845)\n",
      "\n",
      "Step: 2 Final bias: tensor(-14.4041)\n",
      "\n",
      "Step: 3 Final bias: tensor(-14.4758)\n",
      "\n",
      "Step: 4 Final bias: tensor(-14.5188)\n",
      "\n",
      "Step: 5 Final bias: tensor(-14.5446)\n",
      "\n",
      "Step: 6 Final bias: tensor(-14.5601)\n",
      "\n",
      "Step: 7 Final bias: tensor(-14.5694)\n",
      "\n",
      "Step: 8 Final bias: tensor(-14.5750)\n",
      "\n",
      "Step: 9 Final bias: tensor(-14.5783)\n",
      "\n",
      "Step: 10 Final bias: tensor(-14.5803)\n",
      "\n",
      "Step: 11 Final bias: tensor(-14.5815)\n",
      "\n",
      "Step: 12 Final bias: tensor(-14.5822)\n",
      "\n",
      "Step: 13 Final bias: tensor(-14.5827)\n",
      "\n",
      "Step: 14 Final bias: tensor(-14.5829)\n",
      "\n",
      "Step: 15 Final bias: tensor(-14.5831)\n",
      "\n",
      "Step: 16 Final bias: tensor(-14.5832)\n",
      "\n",
      "Step: 17 Final bias: tensor(-14.5832)\n",
      "\n",
      "Step: 18 Final bias: tensor(-14.5833)\n",
      "\n",
      "Step: 19 Final bias: tensor(-14.5833)\n",
      "\n",
      "Step: 20 Final bias: tensor(-14.5833)\n",
      "\n",
      "Step: 21 Final bias: tensor(-14.5833)\n",
      "\n",
      "Step: 22 Final bias: tensor(-14.5833)\n",
      "\n",
      "Step: 23 Final bias: tensor(-14.5833)\n",
      "\n",
      "Step: 24 Final bias: tensor(-14.5833)\n",
      "\n",
      "Step: 25 Final bias: tensor(-14.5833)\n",
      "\n",
      "Step: 26 Final bias: tensor(-14.5833)\n",
      "\n",
      "Step: 27 Final bias: tensor(-14.5833)\n",
      "\n",
      "Step: 28 Final bias: tensor(-14.5833)\n",
      "\n",
      "Step: 29 Final bias: tensor(-14.5833)\n",
      "\n",
      "Step: 30 Final bias: tensor(-14.5833)\n",
      "\n",
      "Step: 31 Final bias: tensor(-14.5833)\n",
      "\n",
      "Step: 32 Final bias: tensor(-14.5833)\n",
      "\n",
      "Step: 33 Final bias: tensor(-14.5833)\n",
      "\n",
      "Step: 34 Final bias: tensor(-14.5833)\n",
      "\n",
      "Step: 35 Final bias: tensor(-14.5833)\n",
      "\n",
      "Step: 36 Final bias: tensor(-14.5833)\n",
      "\n",
      "Step: 37 Final bias: tensor(-14.5833)\n",
      "\n",
      "Step: 38 Final bias: tensor(-14.5833)\n",
      "\n",
      "Step: 39 Final bias: tensor(-14.5833)\n",
      "\n",
      "Step: 40 Final bias: tensor(-14.5833)\n",
      "\n",
      "Step: 41 Final bias: tensor(-14.5833)\n",
      "\n",
      "Step: 42 Final bias: tensor(-14.5833)\n",
      "\n",
      "Step: 43 Final bias: tensor(-14.5833)\n",
      "\n",
      "Step: 44 Final bias: tensor(-14.5833)\n",
      "\n",
      "Step: 45 Final bias: tensor(-14.5833)\n",
      "\n",
      "Step: 46 Final bias: tensor(-14.5833)\n",
      "\n",
      "Step: 47 Final bias: tensor(-14.5833)\n",
      "\n",
      "Step: 48 Final bias: tensor(-14.5833)\n",
      "\n",
      "Step: 49 Final bias: tensor(-14.5833)\n",
      "\n",
      "Step: 50 Final bias: tensor(-14.5833)\n",
      "\n",
      "Step: 51 Final bias: tensor(-14.5833)\n",
      "\n",
      "Step: 52 Final bias: tensor(-14.5833)\n",
      "\n",
      "Step: 53 Final bias: tensor(-14.5833)\n",
      "\n",
      "Step: 54 Final bias: tensor(-14.5833)\n",
      "\n",
      "Step: 55 Final bias: tensor(-14.5833)\n",
      "\n",
      "Step: 56 Final bias: tensor(-14.5833)\n",
      "\n",
      "Step: 57 Final bias: tensor(-14.5833)\n",
      "\n",
      "Step: 58 Final bias: tensor(-14.5833)\n",
      "\n",
      "Step: 59 Final bias: tensor(-14.5833)\n",
      "\n",
      "Step: 60 Final bias: tensor(-14.5833)\n",
      "\n",
      "Step: 61 Final bias: tensor(-14.5833)\n",
      "\n",
      "Step: 62 Final bias: tensor(-14.5833)\n",
      "\n",
      "Step: 63 Final bias: tensor(-14.5833)\n",
      "\n",
      "Step: 64 Final bias: tensor(-14.5833)\n",
      "\n",
      "Step: 65 Final bias: tensor(-14.5833)\n",
      "\n",
      "Step: 66 Final bias: tensor(-14.5833)\n",
      "\n",
      "Step: 67 Final bias: tensor(-14.5833)\n",
      "\n",
      "Step: 68 Final bias: tensor(-14.5833)\n",
      "\n",
      "Step: 69 Final bias: tensor(-14.5833)\n",
      "\n",
      "Step: 70 Final bias: tensor(-14.5833)\n",
      "\n",
      "Step: 71 Final bias: tensor(-14.5833)\n",
      "\n",
      "Step: 72 Final bias: tensor(-14.5833)\n",
      "\n",
      "Step: 73 Final bias: tensor(-14.5833)\n",
      "\n",
      "Step: 74 Final bias: tensor(-14.5833)\n",
      "\n",
      "Step: 75 Final bias: tensor(-14.5833)\n",
      "\n",
      "Step: 76 Final bias: tensor(-14.5833)\n",
      "\n",
      "Step: 77 Final bias: tensor(-14.5833)\n",
      "\n",
      "Step: 78 Final bias: tensor(-14.5833)\n",
      "\n",
      "Step: 79 Final bias: tensor(-14.5833)\n",
      "\n",
      "Step: 80 Final bias: tensor(-14.5833)\n",
      "\n",
      "Step: 81 Final bias: tensor(-14.5833)\n",
      "\n",
      "Step: 82 Final bias: tensor(-14.5833)\n",
      "\n",
      "Step: 83 Final bias: tensor(-14.5833)\n",
      "\n",
      "Step: 84 Final bias: tensor(-14.5833)\n",
      "\n",
      "Step: 85 Final bias: tensor(-14.5833)\n",
      "\n",
      "Step: 86 Final bias: tensor(-14.5833)\n",
      "\n",
      "Step: 87 Final bias: tensor(-14.5833)\n",
      "\n",
      "Step: 88 Final bias: tensor(-14.5833)\n",
      "\n",
      "Step: 89 Final bias: tensor(-14.5833)\n",
      "\n",
      "Step: 90 Final bias: tensor(-14.5833)\n",
      "\n",
      "Step: 91 Final bias: tensor(-14.5833)\n",
      "\n",
      "Step: 92 Final bias: tensor(-14.5833)\n",
      "\n",
      "Step: 93 Final bias: tensor(-14.5833)\n",
      "\n",
      "Step: 94 Final bias: tensor(-14.5833)\n",
      "\n",
      "Step: 95 Final bias: tensor(-14.5833)\n",
      "\n",
      "Step: 96 Final bias: tensor(-14.5833)\n",
      "\n",
      "Step: 97 Final bias: tensor(-14.5833)\n",
      "\n",
      "Step: 98 Final bias: tensor(-14.5833)\n",
      "\n",
      "Step: 99 Final bias: tensor(-14.5833)\n",
      "\n"
     ]
    }
   ],
   "source": [
    "# train the network - tune the final bias with backpropagation\n",
    "optimizer = optim.SGD(neural_net_model.parameters(), lr=0.1)\n",
    "\n",
    "print(\"Final bias, before optimisation: \" + str(neural_net_model.final_bias) + \"\\n\")\n",
    "\n",
    "for epoch in range(0,100): \n",
    "\n",
    "    total_loss = 0 \n",
    "\n",
    "    for iteration in range(len(X)): \n",
    "        input_i = X[iteration]\n",
    "        label_i = y[iteration]\n",
    "\n",
    "        output_i = neural_net_model(input_i)\n",
    "\n",
    "        loss = (output_i - label_i)**2\n",
    "\n",
    "        loss.backward()\n",
    "\n",
    "        total_loss += float(loss)\n",
    "    \n",
    "    if (total_loss < 0.000001): \n",
    "        print(\"Number of steps: \" + str(epoch))\n",
    "        break\n",
    "\n",
    "\n",
    "    optimizer.step()\n",
    "    optimizer.zero_grad()\n",
    "\n",
    "    print(\"Step: \" + str(epoch) + \" Final bias: \" + str(neural_net_model.final_bias.data) + \"\\n\")\n"
   ]
  },
  {
   "cell_type": "markdown",
   "id": "84def506",
   "metadata": {},
   "source": [
    "## **Torchvision Transforms**\n",
    "\n",
    "Data does not always come in its final processed form that is required for training machine learning algorithms. We use transforms to perform some manipulation of the data and make it suitable for training.\n",
    "\n",
    "All TorchVision datasets have two parameters -transform to modify the features and target_transform to modify the labels - that accept callables containing the transformation logic. The torchvision.transforms module offers several commonly-used transforms out of the box.\n",
    "\n",
    "The FashionMNIST features are in PIL Image format, and the labels are integers. For training, we need the features as normalized tensors, and the labels as one-hot encoded tensors. To make these transformations, we use ToTensor and Lambda."
   ]
  },
  {
   "cell_type": "code",
   "execution_count": 28,
   "id": "09a0e67c",
   "metadata": {},
   "outputs": [],
   "source": [
    "import torch\n",
    "from torchvision import datasets\n",
    "from torchvision.transforms import ToTensor, Lambda\n",
    "\n",
    "ds = datasets.FashionMNIST(\n",
    "    root=\"data\",\n",
    "    train=True,\n",
    "    download=True,\n",
    "    transform=ToTensor(),\n",
    "    target_transform=Lambda(lambda y: torch.zeros(10, dtype=torch.float).scatter_(0, torch.tensor(y), value=1))\n",
    ")"
   ]
  },
  {
   "cell_type": "markdown",
   "id": "a7577f63",
   "metadata": {},
   "source": [
    "We define our neural network by subclassing nn.Module, and initialize the neural network layers in __init__. Every nn.Module subclass implements the operations on input data in the forward method.\n",
    "\n"
   ]
  },
  {
   "cell_type": "code",
   "execution_count": 29,
   "id": "28236d15",
   "metadata": {},
   "outputs": [],
   "source": [
    "class NeuralNetwork(nn.Module):\n",
    "    def __init__(self):\n",
    "        super().__init__()\n",
    "        self.flatten = nn.Flatten()\n",
    "        self.linear_relu_stack = nn.Sequential(\n",
    "            nn.Linear(28*28, 512),\n",
    "            nn.ReLU(),\n",
    "            nn.Linear(512, 512),\n",
    "            nn.ReLU(),\n",
    "            nn.Linear(512, 10),\n",
    "        )\n",
    "\n",
    "    def forward(self, x):\n",
    "        x = self.flatten(x)\n",
    "        logits = self.linear_relu_stack(x)\n",
    "        return logits"
   ]
  },
  {
   "cell_type": "code",
   "execution_count": 30,
   "id": "ed2c9da5",
   "metadata": {},
   "outputs": [
    {
     "name": "stdout",
     "output_type": "stream",
     "text": [
      "NeuralNetwork(\n",
      "  (flatten): Flatten(start_dim=1, end_dim=-1)\n",
      "  (linear_relu_stack): Sequential(\n",
      "    (0): Linear(in_features=784, out_features=512, bias=True)\n",
      "    (1): ReLU()\n",
      "    (2): Linear(in_features=512, out_features=512, bias=True)\n",
      "    (3): ReLU()\n",
      "    (4): Linear(in_features=512, out_features=10, bias=True)\n",
      "  )\n",
      ")\n"
     ]
    }
   ],
   "source": [
    "model = NeuralNetwork().to(device)\n",
    "print(model)"
   ]
  },
  {
   "cell_type": "markdown",
   "id": "b595683c",
   "metadata": {},
   "source": [
    "Calling the model on the input returns a 2-dimensional tensor with dim=0 corresponding to each output of 10 raw predicted values for each class, and dim=1 corresponding to the individual values of each output. We get the prediction probabilities by passing it through an instance of the nn.Softmax module."
   ]
  },
  {
   "cell_type": "code",
   "execution_count": 31,
   "id": "8569f609",
   "metadata": {},
   "outputs": [
    {
     "name": "stdout",
     "output_type": "stream",
     "text": [
      "Predicted class: tensor([2], device='mps:0')\n"
     ]
    }
   ],
   "source": [
    "X = torch.rand(1, 28, 28, device=device)\n",
    "logits = model(X)\n",
    "pred_probab = nn.Softmax(dim=1)(logits)\n",
    "y_pred = pred_probab.argmax(1)\n",
    "print(f\"Predicted class: {y_pred}\")"
   ]
  }
 ],
 "metadata": {
  "kernelspec": {
   "display_name": "xai-cv-env",
   "language": "python",
   "name": "python3"
  },
  "language_info": {
   "codemirror_mode": {
    "name": "ipython",
    "version": 3
   },
   "file_extension": ".py",
   "mimetype": "text/x-python",
   "name": "python",
   "nbconvert_exporter": "python",
   "pygments_lexer": "ipython3",
   "version": "3.9.21"
  }
 },
 "nbformat": 4,
 "nbformat_minor": 5
}
